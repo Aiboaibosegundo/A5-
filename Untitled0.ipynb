{
  "nbformat": 4,
  "nbformat_minor": 0,
  "metadata": {
    "colab": {
      "name": "Untitled0.ipynb",
      "provenance": [],
      "authorship_tag": "ABX9TyNP4arzx/C5nzEjMtK7iZRq",
      "include_colab_link": true
    },
    "kernelspec": {
      "name": "python3",
      "display_name": "Python 3"
    },
    "language_info": {
      "name": "python"
    }
  },
  "cells": [
    {
      "cell_type": "markdown",
      "metadata": {
        "id": "view-in-github",
        "colab_type": "text"
      },
      "source": [
        "<a href=\"https://colab.research.google.com/github/Aiboaibofromheaven/A5-/blob/main/Untitled0.ipynb\" target=\"_parent\"><img src=\"https://colab.research.google.com/assets/colab-badge.svg\" alt=\"Open In Colab\"/></a>"
      ]
    },
    {
      "cell_type": "code",
      "metadata": {
        "id": "J-psZDE_qA2z"
      },
      "source": [
        "!git config --global user.email \"mawattemawaru@gmail.com\"\n",
        "!git config --global user.name \"Aiboaibosegundo\""
      ],
      "execution_count": 48,
      "outputs": []
    },
    {
      "cell_type": "code",
      "metadata": {
        "id": "WaxXW1DUUQuf"
      },
      "source": [
        "!git config --global user.email \"mawattemawaru@gmail.com\"\n",
        "!git config --global user.name \"Aiboaibosegundo\"\n",
        "!git config --global user.email \"koyofkmr@gmail.com\"\n",
        "!git config --global user.name \"Aiboaibofromheaven\""
      ],
      "execution_count": 44,
      "outputs": []
    },
    {
      "cell_type": "code",
      "metadata": {
        "colab": {
          "base_uri": "https://localhost:8080/"
        },
        "id": "Jj3X9qD29dXf",
        "outputId": "5b2b96a8-d38c-436f-d4b0-91bf6698d015"
      },
      "source": [
        "!git clone https://github.com/Aiboaibofromheaven/A5-.git"
      ],
      "execution_count": 2,
      "outputs": [
        {
          "output_type": "stream",
          "name": "stdout",
          "text": [
            "Cloning into 'A5-'...\n",
            "remote: Enumerating objects: 3, done.\u001b[K\n",
            "remote: Counting objects: 100% (3/3), done.\u001b[K\n",
            "remote: Total 3 (delta 0), reused 0 (delta 0), pack-reused 0\u001b[K\n",
            "Unpacking objects: 100% (3/3), done.\n"
          ]
        }
      ]
    },
    {
      "cell_type": "code",
      "metadata": {
        "id": "ve4P9i_CmQRc"
      },
      "source": [
        "!echo \"# B5-\" >> A5-/README.md"
      ],
      "execution_count": 19,
      "outputs": []
    },
    {
      "cell_type": "code",
      "metadata": {
        "id": "ZGO3w7h3FoSU",
        "colab": {
          "base_uri": "https://localhost:8080/"
        },
        "outputId": "07aac0b3-15b4-4f70-a607-aee1ca372fe7"
      },
      "source": [
        "!ls"
      ],
      "execution_count": 20,
      "outputs": [
        {
          "output_type": "stream",
          "name": "stdout",
          "text": [
            "A5-  README.md\tsample_data\n"
          ]
        }
      ]
    },
    {
      "cell_type": "code",
      "metadata": {
        "id": "1L5cuNCnpJwC"
      },
      "source": [
        "!cd A5-"
      ],
      "execution_count": 15,
      "outputs": []
    },
    {
      "cell_type": "code",
      "metadata": {
        "id": "MypYUoCypPQK",
        "colab": {
          "base_uri": "https://localhost:8080/"
        },
        "outputId": "c9b3a51a-994d-493e-ec71-c246a6859674"
      },
      "source": [
        "!ls A5-"
      ],
      "execution_count": 21,
      "outputs": [
        {
          "output_type": "stream",
          "name": "stdout",
          "text": [
            "README.md\n"
          ]
        }
      ]
    },
    {
      "cell_type": "code",
      "metadata": {
        "id": "vVWVRhKOmaRv"
      },
      "source": [
        ""
      ],
      "execution_count": null,
      "outputs": []
    },
    {
      "cell_type": "code",
      "metadata": {
        "colab": {
          "base_uri": "https://localhost:8080/"
        },
        "id": "4oyrh4s-pSja",
        "outputId": "cece66d7-46a2-44ff-95ae-f1ea17e3fc48"
      },
      "source": [
        "!cat A5-/README.md"
      ],
      "execution_count": 22,
      "outputs": [
        {
          "output_type": "stream",
          "name": "stdout",
          "text": [
            "# B5-\n"
          ]
        }
      ]
    },
    {
      "cell_type": "code",
      "metadata": {
        "id": "b0pOCmhBpR_R",
        "colab": {
          "base_uri": "https://localhost:8080/"
        },
        "outputId": "6f0e0a42-0043-40ee-88a1-1f16a9a7dc29"
      },
      "source": [
        "!git init"
      ],
      "execution_count": 23,
      "outputs": [
        {
          "output_type": "stream",
          "name": "stdout",
          "text": [
            "Initialized empty Git repository in /content/.git/\n"
          ]
        }
      ]
    },
    {
      "cell_type": "code",
      "metadata": {
        "colab": {
          "base_uri": "https://localhost:8080/"
        },
        "id": "d_pM4IMnjTSl",
        "outputId": "0018b3c6-a62d-4de2-8f91-0f6931a57e8f"
      },
      "source": [
        "!git commit -m \"first commit\""
      ],
      "execution_count": 29,
      "outputs": [
        {
          "output_type": "stream",
          "name": "stdout",
          "text": [
            "[master (root-commit) 63864f6] first commit\n",
            " 1 file changed, 1 insertion(+)\n",
            " create mode 100644 A5-/README.md\n"
          ]
        }
      ]
    },
    {
      "cell_type": "code",
      "metadata": {
        "id": "PRL3oyXLmeEb"
      },
      "source": [
        "!git remote add origin https://github.com/Aiboaibofromheaven/B5-.git"
      ],
      "execution_count": 34,
      "outputs": []
    },
    {
      "cell_type": "code",
      "metadata": {
        "id": "dGuo44MimnEL"
      },
      "source": [
        "!git add A5-/README.md"
      ],
      "execution_count": 33,
      "outputs": []
    },
    {
      "cell_type": "code",
      "metadata": {
        "id": "a9rTOU6Om1dc"
      },
      "source": [
        "!git branch -M main"
      ],
      "execution_count": 32,
      "outputs": []
    },
    {
      "cell_type": "code",
      "metadata": {
        "colab": {
          "base_uri": "https://localhost:8080/"
        },
        "id": "3LJ0K9DMrLcB",
        "outputId": "e481b526-0e11-4636-b5e3-0e978b1e2055"
      },
      "source": [
        "!git remote set-url origin git@github.com:Aiboaibofromheaven/A5-.git"
      ],
      "execution_count": 30,
      "outputs": [
        {
          "output_type": "stream",
          "name": "stdout",
          "text": [
            "fatal: No such remote 'origin'\n",
            "error: src refspec main does not match any.\n",
            "error: failed to push some refs to 'origin'\n"
          ]
        }
      ]
    },
    {
      "cell_type": "code",
      "metadata": {
        "colab": {
          "base_uri": "https://localhost:8080/"
        },
        "id": "h5jhAX87m9o_",
        "outputId": "f4336b4b-bde7-47ff-dde1-1f5c8426d645"
      },
      "source": [
        "!git push origin main"
      ],
      "execution_count": 35,
      "outputs": [
        {
          "output_type": "stream",
          "name": "stdout",
          "text": [
            "fatal: could not read Username for 'https://github.com': No such device or address\n"
          ]
        }
      ]
    },
    {
      "cell_type": "code",
      "metadata": {
        "colab": {
          "base_uri": "https://localhost:8080/"
        },
        "id": "WVTnKoM16PIf",
        "outputId": "5aa98c34-1556-4924-baac-7569e95321ef"
      },
      "source": [
        "!ssh-keyscan -t rsa github.com >> ~/.ssh/known_hosts"
      ],
      "execution_count": null,
      "outputs": [
        {
          "output_type": "stream",
          "name": "stdout",
          "text": [
            "# github.com:22 SSH-2.0-babeld-2aa5ef1f\n"
          ]
        }
      ]
    },
    {
      "cell_type": "code",
      "metadata": {
        "colab": {
          "base_uri": "https://localhost:8080/"
        },
        "id": "YidD1D-d-evv",
        "outputId": "3359598a-7296-4e12-c519-9b2a72e16ab2"
      },
      "source": [
        "!ssh-keygen -t rsa"
      ],
      "execution_count": 36,
      "outputs": [
        {
          "output_type": "stream",
          "name": "stdout",
          "text": [
            "Generating public/private rsa key pair.\n",
            "Enter file in which to save the key (/root/.ssh/id_rsa): \n",
            "Created directory '/root/.ssh'.\n",
            "Enter passphrase (empty for no passphrase): \n",
            "Enter same passphrase again: \n",
            "Your identification has been saved in /root/.ssh/id_rsa.\n",
            "Your public key has been saved in /root/.ssh/id_rsa.pub.\n",
            "The key fingerprint is:\n",
            "SHA256:gQ8Yp4HNyGmxDaPYFx4uVfSGjOj7701PQsBeFCefV6U root@9eaa03314ff7\n",
            "The key's randomart image is:\n",
            "+---[RSA 2048]----+\n",
            "| .+B*o+ +..   ...|\n",
            "|.o*Xo% = + . . . |\n",
            "|o.= O B = o . E  |\n",
            "| . o . * . .     |\n",
            "|  .   . S        |\n",
            "|   .   .         |\n",
            "|  .     o .      |\n",
            "|   .   o +       |\n",
            "|    .oo . .      |\n",
            "+----[SHA256]-----+\n"
          ]
        }
      ]
    },
    {
      "cell_type": "code",
      "metadata": {
        "colab": {
          "base_uri": "https://localhost:8080/"
        },
        "id": "kuKbMA9WCYck",
        "outputId": "f402437c-8a53-4e63-eaa9-f3caee394300"
      },
      "source": [
        "!cat ~/.ssh/id_rsa.pub"
      ],
      "execution_count": 42,
      "outputs": [
        {
          "output_type": "stream",
          "name": "stdout",
          "text": [
            "ssh-rsa AAAAB3NzaC1yc2EAAAADAQABAAABAQCyrt/miFj488+az8crqMwoLMxGQYrfaY9o8bSRiT3KWDwuazTU5nmz9XmoukSAv29kPM0wUd0VuG42Wel7u0lJmvp7s6oyMpDbyry3a0BFXnSi9fRGtXo/qiytx6FoyeiOU0JNFH18qUO0o00rCiHEnFjn3qSHMK4qU1IFyFFx2lHJ75h3MHBDOPbFzAq6gTRdbnj7iwEFEN7t23SuW3jHilK0uPQdiEr0tQvqv1CCHYXsbdjnGsl8PRxZ3qkIxIIp3Hj/NqooQdL1fdogEAVjmIQ6SI5fvp3ncGcqHrG7wp9IaBQdlYrhrAPSCt5txz8j5vjqzwxOUof5lg1Dmhqh root@9eaa03314ff7\n"
          ]
        }
      ]
    },
    {
      "cell_type": "code",
      "metadata": {
        "colab": {
          "base_uri": "https://localhost:8080/"
        },
        "id": "Nxb0aX9en8qm",
        "outputId": "6ddca88c-4dad-49e3-add6-be0db63eee03"
      },
      "source": [
        "!ssh -T git@github.com"
      ],
      "execution_count": 46,
      "outputs": [
        {
          "output_type": "stream",
          "name": "stdout",
          "text": [
            "Host key verification failed.\r\n"
          ]
        }
      ]
    },
    {
      "cell_type": "code",
      "metadata": {
        "colab": {
          "base_uri": "https://localhost:8080/"
        },
        "id": "BzH4xzyQo-3m",
        "outputId": "4d9fd3d4-4629-4634-f6e6-c29431b8eb64"
      },
      "source": [
        "!git commit -m \"Added new file.\""
      ],
      "execution_count": 47,
      "outputs": [
        {
          "output_type": "stream",
          "name": "stdout",
          "text": [
            "On branch main\n",
            "Untracked files:\n",
            "\t\u001b[31m.config/\u001b[m\n",
            "\t\u001b[31msample_data/\u001b[m\n",
            "\n",
            "nothing added to commit but untracked files present\n"
          ]
        }
      ]
    }
  ]
}